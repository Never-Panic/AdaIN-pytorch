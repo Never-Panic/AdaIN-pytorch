{
    "cells": [
        {
            "cell_type": "code",
            "execution_count": null,
            "source": [
                "!nvidia-smi"
            ],
            "outputs": [],
            "metadata": {}
        },
        {
            "cell_type": "code",
            "execution_count": null,
            "source": [
                "!CUDA_VISIBLE_DEVICES=1 python3 test.py"
            ],
            "outputs": [],
            "metadata": {}
        },
        {
            "cell_type": "code",
            "execution_count": null,
            "source": [
                "!CUDA_VISIBLE_DEVICES=1 python3 train.py"
            ],
            "outputs": [],
            "metadata": {}
        }
    ],
    "metadata": {
        "orig_nbformat": 4,
        "language_info": {
            "name": "python",
            "version": "3.7.10",
            "mimetype": "text/x-python",
            "codemirror_mode": {
                "name": "ipython",
                "version": 3
            },
            "pygments_lexer": "ipython3",
            "nbconvert_exporter": "python",
            "file_extension": ".py"
        },
        "kernelspec": {
            "name": "python3",
            "display_name": "Python 3.7.10 64-bit ('pytorch': conda)"
        },
        "interpreter": {
            "hash": "27cb852d8105e103d60574eb88320ce7f215b03d1338f195b83d9143ff149a6d"
        }
    },
    "nbformat": 4,
    "nbformat_minor": 2
}